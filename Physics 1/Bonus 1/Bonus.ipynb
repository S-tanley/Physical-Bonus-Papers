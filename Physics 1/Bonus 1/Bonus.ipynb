{
 "cells": [
  {
   "cell_type": "code",
   "execution_count": 100,
   "id": "c09684e2-90db-40ce-bd24-a943a47a62d5",
   "metadata": {},
   "outputs": [],
   "source": [
    "import math\n",
    "import numpy as np\n",
    "import matplotlib.pyplot as plt"
   ]
  },
  {
   "cell_type": "markdown",
   "id": "9ffe9158-c4c3-4740-b809-4e3ada717750",
   "metadata": {},
   "source": [
    "In here, we use u_v to represent the speed of rain, and it has three components in x, y and z direction. "
   ]
  },
  {
   "cell_type": "markdown",
   "id": "08c47f3d-e4fb-41bf-a21a-2d82af5b7ab7",
   "metadata": {},
   "source": [
    "And we suppose the lowest speed is 1m/s and highest speed is 7m/s in this model, but it can be change. \n"
   ]
  },
  {
   "cell_type": "markdown",
   "id": "394e2dd6-e73e-4278-a876-d3534479a776",
   "metadata": {},
   "source": [
    "Besides, if you want more accurate result, you can change step.\n"
   ]
  },
  {
   "cell_type": "markdown",
   "id": "58f236d9-93bb-4062-9fba-499729e1d7e1",
   "metadata": {},
   "source": [
    "d here represent the distance between dormitory and school building."
   ]
  },
  {
   "cell_type": "markdown",
   "id": "54e27697-edf1-4bb0-bd9e-1c3e9144be68",
   "metadata": {},
   "source": [
    "w represent the relative space density of rain, and we assume it is 1"
   ]
  },
  {
   "cell_type": "code",
   "execution_count": 99,
   "id": "fc6fd215-5c7c-4a4f-a778-1deb3941808d",
   "metadata": {},
   "outputs": [],
   "source": [
    "u_x = 2\n",
    "u_y = -1\n",
    "u_z = 1\n",
    "u_v = [u_x, u_y, u_z] #m/s\n",
    "down_bound = 1\n",
    "up_bound = 7.01\n",
    "step = 0.01\n",
    "v = np.arange(down_bound, up_bound, step) #m/s\n",
    "d = 1000 #m\n",
    "w = 1"
   ]
  },
  {
   "cell_type": "markdown",
   "id": "7213eb26-8954-4aee-af6a-341bc5cbdcda",
   "metadata": {},
   "source": [
    "S_x, S_y, S_z represent the area where can get caught with rain.\n",
    "\n",
    "S_x is the front side, S_y is the flank, and the S_z is the top side.\n",
    "\n",
    "And we search online to find these datas."
   ]
  },
  {
   "cell_type": "code",
   "execution_count": 101,
   "id": "583928ae-1f6f-4dbb-9d4c-5b403fc7ec7a",
   "metadata": {},
   "outputs": [],
   "source": [
    "S_x = 0.4 #m**2\n",
    "S_y = 0.15\n",
    "S_z = 0.06"
   ]
  },
  {
   "cell_type": "markdown",
   "id": "57a5b680-545f-4f4a-931b-9e75bfccd27c",
   "metadata": {},
   "source": [
    "here r_v represent the relative velocity of people considering the rain is reference frame.\n",
    "\n",
    "r_v_s is the speed(magnitude) of r_v.\n",
    "\n",
    "proj_S_x, proj_S_y and proj_S_z are the projection area of S_x, S_y and S_z on the plane which's normal vector is the r_v.\n",
    "\n",
    "Then we can calculate every Q versus every v, then draw a curve plot."
   ]
  },
  {
   "cell_type": "code",
   "execution_count": 102,
   "id": "4f1f0483-fdae-4583-8d2f-ede7922effae",
   "metadata": {},
   "outputs": [
    {
     "data": {
      "image/png": "[encoded data removed]",
      "text/plain": [
       "<Figure size 640x480 with 1 Axes>"
      ]
     },
     "metadata": {},
     "output_type": "display_data"
    }
   ],
   "source": [
    "Q_by_v = []\n",
    "for i, tem in enumerate(v):\n",
    "    t = d/tem\n",
    "    r_v = [u_x - tem, u_y, u_z]\n",
    "    r_v_s = math.sqrt(r_v[0]**2 + r_v[1]**2 + r_v[2]**2)\n",
    "    cos_x = abs(r_v[0]/r_v_s)\n",
    "    cos_y = abs(r_v[1]/r_v_s)\n",
    "    cos_z = abs(r_v[2]/r_v_s)\n",
    "    proj_S_x = S_x*cos_x\n",
    "    proj_S_y = S_y*cos_y\n",
    "    proj_S_z = S_z*cos_z\n",
    "    S = proj_S_x + proj_S_y + proj_S_z\n",
    "    Q_1 = w*S*r_v_s*t\n",
    "    Q_by_v.append(Q_1)\n",
    "plt.plot(v, Q_by_v, label='curve of the Q')\n",
    "plt.xlabel(\"v\")\n",
    "plt.ylabel(\"Q\")\n",
    "plt.legend(loc=\"best\", prop=font)\n",
    "plt.show()"
   ]
  },
  {
   "cell_type": "code",
   "execution_count": 103,
   "id": "162080ec-99b1-4eab-b5a2-5fe8e3a66e22",
   "metadata": {},
   "outputs": [
    {
     "name": "stdout",
     "output_type": "stream",
     "text": [
      "最大淋雨量为610.0000000000001\n",
      "此时速度为1.0m/s\n",
      "最小淋雨量为105.00000000000011\n",
      "此时速度为2.0m/s\n"
     ]
    }
   ],
   "source": [
    "x = np.array(Q_by_v)\n",
    "print(\"最大淋雨量为\",x.max(), sep='')\n",
    "print(\"此时速度为\", down_bound + x.argmax()*step, \"m/s\", sep='')\n",
    "print(\"最小淋雨量为\", x.min(), sep='')\n",
    "print(\"此时速度为\", down_bound + x.argmin()*step, \"m/s\", sep='')"
   ]
  },
  {
   "cell_type": "markdown",
   "id": "0eadf2f2-61d2-4db5-9b85-afe9b2b19a97",
   "metadata": {},
   "source": [
    "And we can also find the particular Q versus particualr v(the accuracy must same as the step or may cause some errors)"
   ]
  },
  {
   "cell_type": "code",
   "execution_count": 105,
   "id": "6f7ebfeb-2602-410d-9fca-10aeba116b5c",
   "metadata": {},
   "outputs": [
    {
     "name": "stdout",
     "output_type": "stream",
     "text": [
      "速度为7m/s时，淋雨量为315.7142857142858\n"
     ]
    }
   ],
   "source": [
    "check = 7\n",
    "print(\"速度为\", check, \"m/s时，淋雨量为\", x[(int)((check-1)*(1/step))], sep='')"
   ]
  },
  {
   "cell_type": "code",
   "execution_count": null,
   "id": "afedb9b9-db46-41d4-85fd-d8bba4fe5983",
   "metadata": {},
   "outputs": [],
   "source": []
  }
 ],
 "metadata": {
  "kernelspec": {
   "display_name": "Python 3 (ipykernel)",
   "language": "python",
   "name": "python3"
  },
  "language_info": {
   "codemirror_mode": {
    "name": "ipython",
    "version": 3
   },
   "file_extension": ".py",
   "mimetype": "text/x-python",
   "name": "python",
   "nbconvert_exporter": "python",
   "pygments_lexer": "ipython3",
   "version": "3.9.13"
  },
  "toc-autonumbering": true,
  "toc-showmarkdowntxt": false
 },
 "nbformat": 4,
 "nbformat_minor": 5
}
